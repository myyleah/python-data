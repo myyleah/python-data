{
  "cells": [
    {
      "cell_type": "markdown",
      "metadata": {
        "id": "YSNeMW0BP6cw"
      },
      "source": [
        "# **Modules **"
      ]
    },
    {
      "cell_type": "code",
      "execution_count": 1,
      "metadata": {
        "colab": {
          "base_uri": "https://localhost:8080/",
          "height": 429
        },
        "id": "NWED8mgmWuaJ",
        "outputId": "60349279-e1e3-4ee2-c9e4-cd347d4f5397"
      },
      "outputs": [
        {
          "ename": "ModuleNotFoundError",
          "evalue": "No module named 'job_analyzer'",
          "output_type": "error",
          "traceback": [
            "\u001b[0;31m---------------------------------------------------------------------------\u001b[0m",
            "\u001b[0;31mModuleNotFoundError\u001b[0m                       Traceback (most recent call last)",
            "Cell \u001b[0;32mIn[1], line 1\u001b[0m\n\u001b[0;32m----> 1\u001b[0m \u001b[39mfrom\u001b[39;00m \u001b[39mjob_analyzer\u001b[39;00m \u001b[39mimport\u001b[39;00m \u001b[39m*\u001b[39m\n\u001b[1;32m      3\u001b[0m calculate_salary(\u001b[39m100000\u001b[39m)\n\u001b[1;32m      4\u001b[0m calculate_bonus(\u001b[39m110000\u001b[39m, \u001b[39m100000\u001b[39m)\n",
            "\u001b[0;31mModuleNotFoundError\u001b[0m: No module named 'job_analyzer'"
          ]
        }
      ],
      "source": [
        "from job_analyzer import *\n",
        "\n",
        "calculate_salary(100000)\n",
        "calculate_bonus(110000, 100000)"
      ]
    },
    {
      "cell_type": "code",
      "execution_count": null,
      "metadata": {
        "id": "ClaoNx_FPV_L"
      },
      "outputs": [],
      "source": [
        "help(calculate_salary)"
      ]
    },
    {
      "cell_type": "markdown",
      "metadata": {
        "id": "gnKG1eWHa26B"
      },
      "source": [
        "# **Python Standard Library**"
      ]
    },
    {
      "cell_type": "markdown",
      "metadata": {
        "id": "qAeduwQ7a_9-"
      },
      "source": [
        "Statistics Module"
      ]
    },
    {
      "cell_type": "code",
      "execution_count": null,
      "metadata": {
        "id": "SOGnnpBvQaXu"
      },
      "outputs": [],
      "source": [
        "salary_list = [140000, 90000, 101000, 800000, 110000]"
      ]
    },
    {
      "cell_type": "code",
      "execution_count": null,
      "metadata": {
        "id": "-ElJ4Lp5bKjg"
      },
      "outputs": [],
      "source": [
        "from statistics import mean, mode, median\n",
        "\n",
        "mean(salary_list)\n",
        "\n",
        "statistics.mean(salary_list)\n"
      ]
    },
    {
      "cell_type": "code",
      "execution_count": null,
      "metadata": {
        "id": "XrutmhGRbMym"
      },
      "outputs": [],
      "source": [
        "statistics.mode(salary_list)"
      ]
    },
    {
      "cell_type": "code",
      "execution_count": null,
      "metadata": {
        "id": "_U4iJa3_bjfG"
      },
      "outputs": [],
      "source": [
        "statistics.median(salary_list)"
      ]
    },
    {
      "cell_type": "markdown",
      "metadata": {
        "id": "kPQd9t7Tb1fN"
      },
      "source": [
        "# **Exercise: Cleaning Data**"
      ]
    },
    {
      "cell_type": "code",
      "execution_count": null,
      "metadata": {
        "id": "2fN6atYYb4-2"
      },
      "outputs": [],
      "source": [
        "data_science_jobs = [\n",
        "    {'job_title': 'Data Scientist', 'job_skills': \"['Python', 'SQL', 'Machine Learning']\", 'job_date': '2023-05-12'},\n",
        "    {'job_title': 'Machine Learning Engineer', 'job_skills': \"['Python', 'TensorFlow', 'Deep Learning']\", 'job_date': '2023-05-15'},\n",
        "    {'job_title': 'Data Analyst', 'job_skills': \"['SQL', 'R', 'Tableau']\", 'job_date': '2023-05-10'},\n",
        "    {'job_title': 'Business Intelligence Developer', 'job_skills': \"['SQL', 'PowerBI', 'Data Warehousing']\", 'job_date': '2023-05-08'},\n",
        "    {'job_title': 'Data Engineer', 'job_skills': \"['Python', 'Spark', 'Hadoop']\", 'job_date': '2023-05-18'},\n",
        "    {'job_title': 'AI Specialist', 'job_skills': \"['Python', 'PyTorch', 'AI Ethics']\", 'job_date': '2023-05-20'}\n",
        "]"
      ]
    },
    {
      "cell_type": "markdown",
      "metadata": {
        "id": "vBbTQlxrXnrJ"
      },
      "source": [
        "datetime"
      ]
    },
    {
      "cell_type": "code",
      "execution_count": null,
      "metadata": {
        "id": "7l_bdUMEXqDc"
      },
      "outputs": [],
      "source": [
        "from datetime import datetime"
      ]
    },
    {
      "cell_type": "code",
      "execution_count": null,
      "metadata": {
        "colab": {
          "base_uri": "https://localhost:8080/"
        },
        "id": "PivHWUnhXtj2",
        "outputId": "ce0ecb98-be77-4fa2-96e3-87d47a71ecaa"
      },
      "outputs": [
        {
          "data": {
            "text/plain": [
              "datetime.datetime(2025, 3, 14, 16, 44, 19, 467654)"
            ]
          },
          "execution_count": 4,
          "metadata": {},
          "output_type": "execute_result"
        }
      ],
      "source": [
        "datetime.now()"
      ]
    },
    {
      "cell_type": "code",
      "execution_count": null,
      "metadata": {
        "id": "FY5y1y2UXxWK"
      },
      "outputs": [],
      "source": [
        "test_date = data_science_jobs[0]['job_date']"
      ]
    },
    {
      "cell_type": "code",
      "execution_count": null,
      "metadata": {
        "colab": {
          "base_uri": "https://localhost:8080/"
        },
        "id": "t5yiYWnXX7lV",
        "outputId": "c4cbd953-a447-4334-f5d4-1a98f22bbb67"
      },
      "outputs": [
        {
          "name": "stdout",
          "output_type": "stream",
          "text": [
            "2023-05-12 00:00:00\n"
          ]
        }
      ],
      "source": [
        "print(datetime.strptime(test_date, '%Y-%m-%d'))"
      ]
    },
    {
      "cell_type": "code",
      "execution_count": null,
      "metadata": {
        "id": "mjjZ5dxfhRwh"
      },
      "outputs": [],
      "source": [
        "import ast\n",
        "\n",
        "for job in data_science_jobs:\n",
        "    job['job_date'] = datetime.strptime(job['job_date'], '%Y-%m-%d')\n",
        "    job['job_skills'] = ast.literal_eval(job['job_skills'])"
      ]
    },
    {
      "cell_type": "code",
      "execution_count": null,
      "metadata": {
        "colab": {
          "base_uri": "https://localhost:8080/"
        },
        "id": "UtlJ4c2divW_",
        "outputId": "5a7c8ef8-3468-4a56-96d7-c34366db2364"
      },
      "outputs": [
        {
          "data": {
            "text/plain": [
              "[{'job_title': 'Data Scientist',\n",
              "  'job_skills': ['Python', 'SQL', 'Machine Learning'],\n",
              "  'job_date': datetime.datetime(2023, 5, 12, 0, 0)},\n",
              " {'job_title': 'Machine Learning Engineer',\n",
              "  'job_skills': ['Python', 'TensorFlow', 'Deep Learning'],\n",
              "  'job_date': datetime.datetime(2023, 5, 15, 0, 0)},\n",
              " {'job_title': 'Data Analyst',\n",
              "  'job_skills': ['SQL', 'R', 'Tableau'],\n",
              "  'job_date': datetime.datetime(2023, 5, 10, 0, 0)},\n",
              " {'job_title': 'Business Intelligence Developer',\n",
              "  'job_skills': ['SQL', 'PowerBI', 'Data Warehousing'],\n",
              "  'job_date': datetime.datetime(2023, 5, 8, 0, 0)},\n",
              " {'job_title': 'Data Engineer',\n",
              "  'job_skills': ['Python', 'Spark', 'Hadoop'],\n",
              "  'job_date': datetime.datetime(2023, 5, 18, 0, 0)},\n",
              " {'job_title': 'AI Specialist',\n",
              "  'job_skills': ['Python', 'PyTorch', 'AI Ethics'],\n",
              "  'job_date': datetime.datetime(2023, 5, 20, 0, 0)}]"
            ]
          },
          "execution_count": 8,
          "metadata": {},
          "output_type": "execute_result"
        }
      ],
      "source": [
        "data_science_jobs"
      ]
    },
    {
      "cell_type": "code",
      "execution_count": null,
      "metadata": {
        "id": "VZNebzUWiw9F"
      },
      "outputs": [],
      "source": []
    },
    {
      "cell_type": "markdown",
      "metadata": {
        "id": "N5j5uKv8i5az"
      },
      "source": [
        "# **Library**"
      ]
    },
    {
      "cell_type": "code",
      "execution_count": null,
      "metadata": {
        "id": "cax2MTOTi7dh"
      },
      "outputs": [],
      "source": [
        "file = open('sample_data/california_housing_test.csv')\n",
        "\n",
        "content = file.read()\n",
        "\n",
        "file.close()"
      ]
    },
    {
      "cell_type": "code",
      "execution_count": null,
      "metadata": {
        "colab": {
          "base_uri": "https://localhost:8080/"
        },
        "id": "8el_0oIWo5bE",
        "outputId": "9e0e2420-ad8f-4b68-9e8f-134577dd7fe0"
      },
      "outputs": [
        {
          "data": {
            "text/plain": [
              "1589852.0"
            ]
          },
          "execution_count": 23,
          "metadata": {},
          "output_type": "execute_result"
        }
      ],
      "source": [
        "import pandas as pd\n",
        "\n",
        "contents = pd.read_csv('sample_data/california_housing_test.csv')\n",
        "\n",
        "contents['total_bedrooms'].sum()"
      ]
    },
    {
      "cell_type": "code",
      "execution_count": 2,
      "metadata": {
        "colab": {
          "base_uri": "https://localhost:8080/"
        },
        "id": "Nohau-wpo8RH",
        "outputId": "cfba1c1d-5697-4fe4-82a6-9f34723b66d1"
      },
      "outputs": [
        {
          "name": "stdout",
          "output_type": "stream",
          "text": [
            "Requirement already satisfied: pandas in /opt/anaconda3/lib/python3.12/site-packages (2.2.2)\n",
            "Requirement already satisfied: numpy>=1.26.0 in /opt/anaconda3/lib/python3.12/site-packages (from pandas) (1.26.4)\n",
            "Requirement already satisfied: python-dateutil>=2.8.2 in /opt/anaconda3/lib/python3.12/site-packages (from pandas) (2.9.0.post0)\n",
            "Requirement already satisfied: pytz>=2020.1 in /opt/anaconda3/lib/python3.12/site-packages (from pandas) (2024.1)\n",
            "Requirement already satisfied: tzdata>=2022.7 in /opt/anaconda3/lib/python3.12/site-packages (from pandas) (2023.3)\n",
            "Requirement already satisfied: six>=1.5 in /opt/anaconda3/lib/python3.12/site-packages (from python-dateutil>=2.8.2->pandas) (1.16.0)\n",
            "Note: you may need to restart the kernel to use updated packages.\n"
          ]
        }
      ],
      "source": [
        "%pip install pandas"
      ]
    },
    {
      "cell_type": "code",
      "execution_count": 3,
      "metadata": {
        "colab": {
          "base_uri": "https://localhost:8080/"
        },
        "collapsed": true,
        "id": "GCytRuhrp9QD",
        "outputId": "b6cfbf90-3ebf-4db9-9ef4-052e308d1ead"
      },
      "outputs": [
        {
          "name": "stdout",
          "output_type": "stream",
          "text": [
            "Collecting pyjokes\n",
            "  Downloading pyjokes-0.8.3-py3-none-any.whl.metadata (3.4 kB)\n",
            "Downloading pyjokes-0.8.3-py3-none-any.whl (47 kB)\n",
            "Installing collected packages: pyjokes\n",
            "Successfully installed pyjokes-0.8.3\n",
            "Note: you may need to restart the kernel to use updated packages.\n"
          ]
        }
      ],
      "source": [
        "%pip install pyjokes"
      ]
    },
    {
      "cell_type": "markdown",
      "metadata": {
        "id": "MCAmW7s-ql5I"
      },
      "source": [
        "Common 3rd Party Libraries for Data\n",
        "\n",
        "\n",
        "* Pandas\n",
        "* Numpy\n",
        "* Matplotlib etc.\n",
        "\n"
      ]
    },
    {
      "cell_type": "code",
      "execution_count": null,
      "metadata": {
        "id": "DjdH1ui6qY67"
      },
      "outputs": [],
      "source": []
    },
    {
      "cell_type": "markdown",
      "metadata": {
        "id": "HUPyVGDFRBHV"
      },
      "source": [
        "# **Classes **"
      ]
    },
    {
      "cell_type": "code",
      "execution_count": null,
      "metadata": {
        "id": "7zdbLSYVRAjn"
      },
      "outputs": [],
      "source": [
        "class LukesList:\n",
        "    def __init__(self):\n",
        "        \"\"\"Initialize an empty list.\"\"\"\n",
        "        self._items = []\n",
        "\n",
        "    def add(self, item):\n",
        "        \"\"\"Add an item to the end of the list.\"\"\"\n",
        "        self._items.append(item)\n",
        "\n",
        "    def __getitem__(self, index):\n",
        "        \"\"\"Retrieve an item by index.\"\"\"\n",
        "        return self._items[index]\n",
        "\n",
        "    def __setitem__(self, index, value):\n",
        "        \"\"\"Set an item at a specific index.\"\"\"\n",
        "        self._items[index] = value\n",
        "\n",
        "    def __repr__(self):\n",
        "        \"\"\"Return a string representation of the list.\"\"\"\n",
        "        return str(self._items)\n",
        "\n",
        "    def __len__(self):\n",
        "        \"\"\"Return the length of the list.\"\"\"\n",
        "        return len(self._items)"
      ]
    },
    {
      "cell_type": "code",
      "execution_count": null,
      "metadata": {
        "id": "37-skazXRcLI"
      },
      "outputs": [],
      "source": [
        "my_list = LukesList()"
      ]
    },
    {
      "cell_type": "code",
      "execution_count": null,
      "metadata": {
        "colab": {
          "base_uri": "https://localhost:8080/"
        },
        "id": "RbIpy7ipReiK",
        "outputId": "c17e5d76-365c-4544-d2af-ade978dc09b3"
      },
      "outputs": [
        {
          "data": {
            "text/plain": [
              "[]"
            ]
          },
          "execution_count": 31,
          "metadata": {},
          "output_type": "execute_result"
        }
      ],
      "source": [
        "my_list"
      ]
    },
    {
      "cell_type": "code",
      "execution_count": null,
      "metadata": {
        "id": "qx_2N8D_RgYY"
      },
      "outputs": [],
      "source": [
        "my_list.add('Data Nerd')"
      ]
    },
    {
      "cell_type": "code",
      "execution_count": null,
      "metadata": {
        "colab": {
          "base_uri": "https://localhost:8080/"
        },
        "id": "DC-l4u0XRnSZ",
        "outputId": "faf70a15-43e5-4ab6-888f-ba1d4cee444d"
      },
      "outputs": [
        {
          "data": {
            "text/plain": [
              "['Data Nerd']"
            ]
          },
          "execution_count": 34,
          "metadata": {},
          "output_type": "execute_result"
        }
      ],
      "source": [
        "my_list"
      ]
    },
    {
      "cell_type": "code",
      "execution_count": null,
      "metadata": {
        "id": "LP2qq_gWRpFU"
      },
      "outputs": [],
      "source": [
        "my_list.add(\"Hey\")"
      ]
    },
    {
      "cell_type": "code",
      "execution_count": null,
      "metadata": {
        "id": "HrWtny-SRwsG"
      },
      "outputs": [],
      "source": [
        "class BaseSalary:\n",
        "  def __init__(self, base_salary, bonus_rate=0.1, symbol=\"$\"):\n",
        "    self.base_salary = base_salary\n",
        "    self.bonus_rate = bonus_rate\n",
        "    self.symbol = symbol\n",
        "    self.total_salary = base_salary * (1 + bonus_rate)\n",
        "    self.bonus = self.total_salary - self.base_salary\n",
        "\n",
        "  def __repr__(self):\n",
        "    return f'{self.symbol}{self.base_salary:,.0f}'\n",
        "\n",
        "  def show_salary(self):\n",
        "    return f'{self.symbol}{self.total_salary:,.0f}'\n",
        "\n",
        "  def show_bonus(self):\n",
        "    return f'{self.symbol}{self.bonus:,.0f}'"
      ]
    },
    {
      "cell_type": "code",
      "execution_count": null,
      "metadata": {
        "id": "OxSMNVJaSoQb"
      },
      "outputs": [],
      "source": [
        "data_salary = BaseSalary(100000, .2)"
      ]
    },
    {
      "cell_type": "code",
      "execution_count": null,
      "metadata": {
        "colab": {
          "base_uri": "https://localhost:8080/",
          "height": 190
        },
        "collapsed": true,
        "id": "_HamObY5TY2c",
        "outputId": "9daa4276-82ac-4306-f52d-15f8e59ffc9b"
      },
      "outputs": [
        {
          "ename": "AttributeError",
          "evalue": "'BaseSalary' object has no attribute 'calculate_total_salary'",
          "output_type": "error",
          "traceback": [
            "\u001b[0;31m---------------------------------------------------------------------------\u001b[0m",
            "\u001b[0;31mAttributeError\u001b[0m                            Traceback (most recent call last)",
            "\u001b[0;32m<ipython-input-45-8e2b81b318ba>\u001b[0m in \u001b[0;36m<cell line: 0>\u001b[0;34m()\u001b[0m\n\u001b[0;32m----> 1\u001b[0;31m \u001b[0mdata_salary\u001b[0m\u001b[0;34m.\u001b[0m\u001b[0mcalculate_total_salary\u001b[0m\u001b[0;34m(\u001b[0m\u001b[0;34m)\u001b[0m\u001b[0;34m\u001b[0m\u001b[0;34m\u001b[0m\u001b[0m\n\u001b[0m",
            "\u001b[0;31mAttributeError\u001b[0m: 'BaseSalary' object has no attribute 'calculate_total_salary'"
          ]
        }
      ],
      "source": [
        "data_salary.calculate_total_salary()"
      ]
    },
    {
      "cell_type": "code",
      "execution_count": null,
      "metadata": {
        "id": "CQenDrYgT79I"
      },
      "outputs": [],
      "source": [
        "class BaseSalary:\n",
        "  def __init__(self, base_salary, bonus_rate=0.1, symbol=\"$\"):\n",
        "    self.base_salary = base_salary\n",
        "    self.bonus_rate = bonus_rate\n",
        "    self.symbol = symbol\n",
        "    self.total_salary = base_salary * (1 + bonus_rate)\n",
        "    self.bonus = self.total_salary - self.base_salary\n",
        "\n",
        "  def __repr__(self):\n",
        "    return f'{self.symbol}{self.base_salary:,.0f}'\n",
        "\n",
        "  def show_salary(self):\n",
        "    return f'{self.symbol}{self.total_salary:,.0f}'\n",
        "\n",
        "  def show_bonus(self):\n",
        "    return f'{self.symbol}{self.bonus:,.0f}'"
      ]
    },
    {
      "cell_type": "code",
      "execution_count": null,
      "metadata": {
        "colab": {
          "base_uri": "https://localhost:8080/",
          "height": 35
        },
        "id": "yQzKfWacUau6",
        "outputId": "c174cf8d-5b51-4c26-9c6e-5897f8947ea5"
      },
      "outputs": [
        {
          "data": {
            "application/vnd.google.colaboratory.intrinsic+json": {
              "type": "string"
            },
            "text/plain": [
              "'$'"
            ]
          },
          "execution_count": 34,
          "metadata": {},
          "output_type": "execute_result"
        }
      ],
      "source": [
        "salary = BaseSalary(100000, 0.2)\n",
        "\n",
        "salary.symbol"
      ]
    },
    {
      "cell_type": "code",
      "execution_count": null,
      "metadata": {
        "id": "2hq2VSWSVw0n"
      },
      "outputs": [],
      "source": []
    }
  ],
  "metadata": {
    "colab": {
      "collapsed_sections": [
        "YSNeMW0BP6cw",
        "gnKG1eWHa26B",
        "kPQd9t7Tb1fN",
        "N5j5uKv8i5az",
        "HUPyVGDFRBHV"
      ],
      "provenance": []
    },
    "kernelspec": {
      "display_name": "base",
      "language": "python",
      "name": "python3"
    },
    "language_info": {
      "codemirror_mode": {
        "name": "ipython",
        "version": 3
      },
      "file_extension": ".py",
      "mimetype": "text/x-python",
      "name": "python",
      "nbconvert_exporter": "python",
      "pygments_lexer": "ipython3",
      "version": "3.12.2"
    },
    "vscode": {
      "interpreter": {
        "hash": "40d3a090f54c6569ab1632332b64b2c03c39dcf918b08424e98f38b5ae0af88f"
      }
    }
  },
  "nbformat": 4,
  "nbformat_minor": 0
}
